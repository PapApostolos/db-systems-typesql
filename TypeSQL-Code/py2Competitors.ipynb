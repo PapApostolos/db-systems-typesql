{
  "nbformat": 4,
  "nbformat_minor": 0,
  "metadata": {
    "colab": {
      "name": "py2Competitors",
      "provenance": []
    },
    "kernelspec": {
      "name": "python2",
      "display_name": "Python 2"
    }
  },
  "cells": [
    {
      "cell_type": "markdown",
      "metadata": {
        "id": "yRKv9Ah-hjBB",
        "colab_type": "text"
      },
      "source": [
        "**Prerequisites**"
      ]
    },
    {
      "cell_type": "code",
      "metadata": {
        "id": "k37j4XTQc8Cf",
        "colab_type": "code",
        "colab": {}
      },
      "source": [
        "!pip install records==0.5.2\n",
        "import records"
      ],
      "execution_count": null,
      "outputs": []
    },
    {
      "cell_type": "code",
      "metadata": {
        "id": "ecLnR6Y3c9CR",
        "colab_type": "code",
        "colab": {
          "base_uri": "https://localhost:8080/",
          "height": 35
        },
        "outputId": "99d4f123-3237-43ea-a9dd-482ed35f5137"
      },
      "source": [
        "!python --version"
      ],
      "execution_count": null,
      "outputs": [
        {
          "output_type": "stream",
          "text": [
            "Python 2.7.17\n"
          ],
          "name": "stdout"
        }
      ]
    },
    {
      "cell_type": "code",
      "metadata": {
        "id": "meSijumqdCWH",
        "colab_type": "code",
        "colab": {
          "base_uri": "https://localhost:8080/",
          "height": 35
        },
        "outputId": "e2627297-e32d-4807-e886-4bda81c31880"
      },
      "source": [
        "from google.colab import drive\n",
        "drive.mount('/content/drive')"
      ],
      "execution_count": null,
      "outputs": [
        {
          "output_type": "stream",
          "text": [
            "Drive already mounted at /content/drive; to attempt to forcibly remount, call drive.mount(\"/content/drive\", force_remount=True).\n"
          ],
          "name": "stdout"
        }
      ]
    },
    {
      "cell_type": "code",
      "metadata": {
        "id": "UgnB0tluc9FB",
        "colab_type": "code",
        "colab": {
          "base_uri": "https://localhost:8080/",
          "height": 35
        },
        "outputId": "905e32fe-effe-4f67-dcfc-b05d968121b6"
      },
      "source": [
        "%cd /content/drive/My Drive/Database Systems/SQLNet-master"
      ],
      "execution_count": null,
      "outputs": [
        {
          "output_type": "stream",
          "text": [
            "/content/drive/My Drive/Database Systems/SQLNet-master\n"
          ],
          "name": "stdout"
        }
      ]
    },
    {
      "cell_type": "markdown",
      "metadata": {
        "id": "xFx09eRyh3GV",
        "colab_type": "text"
      },
      "source": [
        "**Test Competitors**"
      ]
    },
    {
      "cell_type": "code",
      "metadata": {
        "id": "y23JaTk2c8_q",
        "colab_type": "code",
        "colab": {
          "base_uri": "https://localhost:8080/",
          "height": 271
        },
        "outputId": "4cc8537e-fe6b-4104-c131-310535ea523f"
      },
      "source": [
        "!python train.py -h"
      ],
      "execution_count": null,
      "outputs": [
        {
          "output_type": "stream",
          "text": [
            "usage: train.py [-h] [--toy] [--suffix SUFFIX] [--ca] [--dataset DATASET]\n",
            "                [--rl] [--baseline] [--train_emb]\n",
            "\n",
            "optional arguments:\n",
            "  -h, --help         show this help message and exit\n",
            "  --toy              If set, use small data; used for fast debugging.\n",
            "  --suffix SUFFIX    The suffix at the end of saved model name.\n",
            "  --ca               Use conditional attention.\n",
            "  --dataset DATASET  0: original dataset, 1: re-split dataset\n",
            "  --rl               Use RL for Seq2SQL(requires pretrained model).\n",
            "  --baseline         If set, then train Seq2SQL model; default is SQLNet\n",
            "                     model.\n",
            "  --train_emb        Train word embedding for SQLNet(requires pretrained\n",
            "                     model).\n"
          ],
          "name": "stdout"
        }
      ]
    },
    {
      "cell_type": "code",
      "metadata": {
        "id": "SZAVNebtdsEx",
        "colab_type": "code",
        "colab": {
          "base_uri": "https://localhost:8080/",
          "height": 1000
        },
        "outputId": "9cddeaf2-562c-41d2-f74c-857be7f55c1a"
      },
      "source": [
        "!python train.py --ca"
      ],
      "execution_count": null,
      "outputs": [
        {
          "output_type": "stream",
          "text": [
            "Loading from original dataset\n",
            "Loading data from data/train_tok.jsonl\n",
            "Loading data from data/train_tok.tables.jsonl\n",
            "Loading data from data/dev_tok.jsonl\n",
            "Loading data from data/dev_tok.tables.jsonl\n",
            "Loading data from data/test_tok.jsonl\n",
            "Loading data from data/test_tok.tables.jsonl\n",
            "Loading word embedding from /content/drive/My Drive/Database Systems/TypeSQL-python3-master/glove/glove.6B.300d.txt\n",
            "Using fixed embedding\n",
            "Using column attention on aggregator predicting\n",
            "Using column attention on selection predicting\n",
            "Using column attention on where predicting\n",
            "/content/drive/My Drive/Database Systems/SQLNet-master/sqlnet/model/modules/aggregator_predict.py:55: UserWarning: Implicit dimension choice for softmax has been deprecated. Change the call to include dim=X as an argument.\n",
            "  att = self.softmax(att_val)\n",
            "/content/drive/My Drive/Database Systems/SQLNet-master/sqlnet/model/modules/selection_predict.py:46: UserWarning: Implicit dimension choice for softmax has been deprecated. Change the call to include dim=X as an argument.\n",
            "  att = self.softmax(att_val.view((-1, max_x_len))).view(\n",
            "/content/drive/My Drive/Database Systems/SQLNet-master/sqlnet/model/modules/sqlnet_condition_predict.py:123: UserWarning: Implicit dimension choice for softmax has been deprecated. Change the call to include dim=X as an argument.\n",
            "  num_col_att = self.softmax(num_col_att_val)\n",
            "/content/drive/My Drive/Database Systems/SQLNet-master/sqlnet/model/modules/sqlnet_condition_predict.py:138: UserWarning: Implicit dimension choice for softmax has been deprecated. Change the call to include dim=X as an argument.\n",
            "  num_att = self.softmax(num_att_val)\n",
            "/content/drive/My Drive/Database Systems/SQLNet-master/sqlnet/model/modules/sqlnet_condition_predict.py:156: UserWarning: Implicit dimension choice for softmax has been deprecated. Change the call to include dim=X as an argument.\n",
            "  (-1, max_x_len))).view(B, -1, max_x_len)\n",
            "/content/drive/My Drive/Database Systems/SQLNet-master/sqlnet/model/modules/sqlnet_condition_predict.py:202: UserWarning: Implicit dimension choice for softmax has been deprecated. Change the call to include dim=X as an argument.\n",
            "  op_att = self.softmax(op_att_val.view(B*4, -1)).view(B, 4, -1)\n",
            "Init dev acc_qm: 0.0\n",
            "  breakdown on (agg, sel, where): [0.03811899 0.16660729 0.        ]\n",
            "Epoch 1 @ 2020-09-08 15:13:15.045872\n",
            " Loss = 3.2737370689784018\n",
            " Train acc_qm: 0.210256410256\n",
            "   breakdown result: [0.89598084 0.81618312 0.26920415]\n",
            " Dev acc_qm: 0.196413727586\n",
            "   breakdown result: [0.88683054 0.8085738  0.25804536]\n",
            "('\\nTime\\n', 1071.2103798389435, 17.853506330649058)\n",
            " Best val acc = (0.8868305426908918, 0.8085738035862724, 0.2580453627835174), on epoch (1, 1, 1) individually\n",
            "Epoch 2 @ 2020-09-08 15:31:06.405856\n",
            " Loss = 2.0323173880778045\n",
            " Train acc_qm: 0.295625942685\n",
            "   breakdown result: [0.90479993 0.86849437 0.35780321]\n",
            " Dev acc_qm: 0.275382971144\n",
            "   breakdown result: [0.89668685 0.85298658 0.34093338]\n",
            "('\\nTime\\n', 1069.5352041721344, 17.82558673620224)\n",
            " Best val acc = (0.8966868542928393, 0.8529865811661322, 0.34093338083363023), on epoch (2, 2, 2) individually\n",
            "Epoch 3 @ 2020-09-08 15:48:56.118081\n",
            " Loss = 1.719685324965961\n",
            " Train acc_qm: 0.384171768255\n",
            "   breakdown result: [0.90857954 0.89438382 0.45357111]\n",
            " Dev acc_qm: 0.34508965681\n",
            "   breakdown result: [0.8953806  0.86913668 0.42299014]\n",
            "('\\nTime\\n', 1069.6089160442352, 17.82681526740392)\n",
            " Best val acc = (0.8966868542928393, 0.8691366821042632, 0.42299014368839805), on epoch (2, 3, 3) individually\n",
            "Epoch 4 @ 2020-09-08 16:06:45.849123\n",
            " Loss = 1.5166700448216504\n",
            " Train acc_qm: 0.417709165114\n",
            "   breakdown result: [0.90909414 0.90994588 0.48774732]\n",
            " Dev acc_qm: 0.374183588647\n",
            "   breakdown result: [0.89205558 0.87839924 0.45624035]\n",
            "('\\nTime\\n', 1070.9551870822906, 17.849253118038177)\n",
            " Best val acc = (0.8966868542928393, 0.8783992399952499, 0.4562403515021969), on epoch (2, 4, 4) individually\n",
            "Epoch 5 @ 2020-09-08 16:24:36.935840\n",
            " Loss = 1.3621967246269928\n",
            " Train acc_qm: 0.476923076923\n",
            "   breakdown result: [0.91890693 0.9218348  0.5483808 ]\n",
            " Dev acc_qm: 0.415627597672\n",
            "   breakdown result: [0.89858687 0.88588054 0.50195939]\n",
            "('\\nTime\\n', 1074.654209136963, 17.91090348561605)\n",
            " Best val acc = (0.8985868661679135, 0.8858805367533548, 0.5019593872461703), on epoch (5, 5, 5) individually\n",
            "Epoch 6 @ 2020-09-08 16:42:31.755072\n",
            " Loss = 1.2448825000352228\n",
            " Train acc_qm: 0.503096442197\n",
            "   breakdown result: [0.92336084 0.9297844  0.57301038]\n",
            " Dev acc_qm: 0.429402683767\n",
            "   breakdown result: [0.89229308 0.88718679 0.51846574]\n",
            "('\\nTime\\n', 1076.820601940155, 17.947010032335918)\n",
            " Best val acc = (0.8985868661679135, 0.8871867949174682, 0.5184657404108776), on epoch (5, 6, 6) individually\n",
            "Epoch 7 @ 2020-09-08 17:00:28.705893\n",
            " Loss = 1.1465925899460263\n",
            " Train acc_qm: 0.530884571023\n",
            "   breakdown result: [0.92657262 0.93572886 0.59962736]\n",
            " Dev acc_qm: 0.448165301033\n",
            "   breakdown result: [0.89276808 0.89039306 0.53889087]\n",
            "('\\nTime\\n', 1076.0877258777618, 17.93479543129603)\n",
            " Best val acc = (0.8985868661679135, 0.8903930649566559, 0.5388908680679254), on epoch (5, 7, 7) individually\n",
            "('\\nTime', [1071.2103798389435, 1069.5352041721344, 1069.6089160442352, 1070.9551870822906, 1074.654209136963, 1076.820601940155, 1076.0877258777618])\n",
            "('Total Time', 7508.8722240924835)\n",
            "('AVG', 1072.6960320132118)\n"
          ],
          "name": "stdout"
        }
      ]
    },
    {
      "cell_type": "code",
      "metadata": {
        "id": "__qaPwaW3AYZ",
        "colab_type": "code",
        "colab": {
          "base_uri": "https://localhost:8080/",
          "height": 673
        },
        "outputId": "56d18638-71e7-4ec7-a43f-d62bbfd5985e"
      },
      "source": [
        "!python test.py --ca"
      ],
      "execution_count": null,
      "outputs": [
        {
          "output_type": "stream",
          "text": [
            "Loading from original dataset\n",
            "Loading data from data/train_tok.jsonl\n",
            "Loading data from data/train_tok.tables.jsonl\n",
            "Loading data from data/dev_tok.jsonl\n",
            "Loading data from data/dev_tok.tables.jsonl\n",
            "Loading data from data/test_tok.jsonl\n",
            "Loading data from data/test_tok.tables.jsonl\n",
            "Load used word embedding\n",
            "Using trainable embedding\n",
            "Using trainable embedding\n",
            "Using trainable embedding\n",
            "Using column attention on aggregator predicting\n",
            "Using column attention on selection predicting\n",
            "Using column attention on where predicting\n",
            "Loading from saved_model/old_sqlnet_ca.agg_model\n",
            "Loading from saved_model/old_sqlnet_ca.sel_model\n",
            "Loading from saved_model/old_sqlnet_ca.cond_model\n",
            "/content/drive/My Drive/Database Systems/SQLNet-master/sqlnet/model/modules/aggregator_predict.py:55: UserWarning: Implicit dimension choice for softmax has been deprecated. Change the call to include dim=X as an argument.\n",
            "  att = self.softmax(att_val)\n",
            "/content/drive/My Drive/Database Systems/SQLNet-master/sqlnet/model/modules/selection_predict.py:46: UserWarning: Implicit dimension choice for softmax has been deprecated. Change the call to include dim=X as an argument.\n",
            "  att = self.softmax(att_val.view((-1, max_x_len))).view(\n",
            "/content/drive/My Drive/Database Systems/SQLNet-master/sqlnet/model/modules/sqlnet_condition_predict.py:123: UserWarning: Implicit dimension choice for softmax has been deprecated. Change the call to include dim=X as an argument.\n",
            "  num_col_att = self.softmax(num_col_att_val)\n",
            "/content/drive/My Drive/Database Systems/SQLNet-master/sqlnet/model/modules/sqlnet_condition_predict.py:138: UserWarning: Implicit dimension choice for softmax has been deprecated. Change the call to include dim=X as an argument.\n",
            "  num_att = self.softmax(num_att_val)\n",
            "/content/drive/My Drive/Database Systems/SQLNet-master/sqlnet/model/modules/sqlnet_condition_predict.py:156: UserWarning: Implicit dimension choice for softmax has been deprecated. Change the call to include dim=X as an argument.\n",
            "  (-1, max_x_len))).view(B, -1, max_x_len)\n",
            "/content/drive/My Drive/Database Systems/SQLNet-master/sqlnet/model/modules/sqlnet_condition_predict.py:202: UserWarning: Implicit dimension choice for softmax has been deprecated. Change the call to include dim=X as an argument.\n",
            "  op_att = self.softmax(op_att_val.view(B*4, -1)).view(B, 4, -1)\n",
            "Dev acc_qm: 0.450896568104;\n",
            "  breakdown on (agg, sel, where): [0.89858687 0.89039306 0.53889087]\n",
            "Dev execution acc: 0.537109606935\n",
            "Test acc_qm: 0.444325481799;\n",
            "  breakdown on (agg, sel, where): [0.90049125 0.88084142 0.53489104]\n",
            "Test execution acc: 0.530419448293\n"
          ],
          "name": "stdout"
        }
      ]
    },
    {
      "cell_type": "markdown",
      "metadata": {
        "id": "fmj7GTLbSJgL",
        "colab_type": "text"
      },
      "source": [
        ""
      ]
    },
    {
      "cell_type": "code",
      "metadata": {
        "id": "FNYobOR8SJuy",
        "colab_type": "code",
        "colab": {
          "base_uri": "https://localhost:8080/",
          "height": 1000
        },
        "outputId": "5f6fde3c-c600-4b4e-b079-d2ff5e295ea0"
      },
      "source": [
        "!python train.py --ca --train_emb"
      ],
      "execution_count": null,
      "outputs": [
        {
          "output_type": "stream",
          "text": [
            "Loading from original dataset\n",
            "Loading data from data/train_tok.jsonl\n",
            "Loading data from data/train_tok.tables.jsonl\n",
            "Loading data from data/dev_tok.jsonl\n",
            "Loading data from data/dev_tok.tables.jsonl\n",
            "Loading data from data/test_tok.jsonl\n",
            "Loading data from data/test_tok.tables.jsonl\n",
            "Load used word embedding\n",
            "Using trainable embedding\n",
            "Using trainable embedding\n",
            "Using trainable embedding\n",
            "Using column attention on aggregator predicting\n",
            "Using column attention on selection predicting\n",
            "Using column attention on where predicting\n",
            "Loading from saved_model/old_sqlnet_ca.agg_model\n",
            "Loading from saved_model/old_sqlnet_ca.sel_model\n",
            "Loading from saved_model/old_sqlnet_ca.cond_model\n",
            "/content/drive/My Drive/Database Systems/SQLNet-master/sqlnet/model/modules/aggregator_predict.py:55: UserWarning: Implicit dimension choice for softmax has been deprecated. Change the call to include dim=X as an argument.\n",
            "  att = self.softmax(att_val)\n",
            "/content/drive/My Drive/Database Systems/SQLNet-master/sqlnet/model/modules/selection_predict.py:46: UserWarning: Implicit dimension choice for softmax has been deprecated. Change the call to include dim=X as an argument.\n",
            "  att = self.softmax(att_val.view((-1, max_x_len))).view(\n",
            "/content/drive/My Drive/Database Systems/SQLNet-master/sqlnet/model/modules/sqlnet_condition_predict.py:123: UserWarning: Implicit dimension choice for softmax has been deprecated. Change the call to include dim=X as an argument.\n",
            "  num_col_att = self.softmax(num_col_att_val)\n",
            "/content/drive/My Drive/Database Systems/SQLNet-master/sqlnet/model/modules/sqlnet_condition_predict.py:138: UserWarning: Implicit dimension choice for softmax has been deprecated. Change the call to include dim=X as an argument.\n",
            "  num_att = self.softmax(num_att_val)\n",
            "/content/drive/My Drive/Database Systems/SQLNet-master/sqlnet/model/modules/sqlnet_condition_predict.py:156: UserWarning: Implicit dimension choice for softmax has been deprecated. Change the call to include dim=X as an argument.\n",
            "  (-1, max_x_len))).view(B, -1, max_x_len)\n",
            "/content/drive/My Drive/Database Systems/SQLNet-master/sqlnet/model/modules/sqlnet_condition_predict.py:202: UserWarning: Implicit dimension choice for softmax has been deprecated. Change the call to include dim=X as an argument.\n",
            "  op_att = self.softmax(op_att_val.view(B*4, -1)).view(B, 4, -1)\n",
            "Init dev acc_qm: 0.450896568104\n",
            "  breakdown on (agg, sel, where): [0.89858687 0.89039306 0.53889087]\n",
            "Epoch 1 @ 2020-09-09 07:06:38.789225\n",
            " Loss = 1.0975836206969558\n",
            " Train acc_qm: 0.57263774288\n",
            "   breakdown result: [0.92905687 0.95436075 0.63912696]\n",
            " Dev acc_qm: 0.468827930175\n",
            "   breakdown result: [0.8963306  0.90203064 0.55824724]\n",
            "('\\nTime\\n', 1115.5887458324432, 18.593145763874055)\n",
            " Best val acc = (0.8985868661679135, 0.9020306376914856, 0.558247239045244), on epoch (0, 1, 1) individually\n",
            "Epoch 2 @ 2020-09-09 07:25:18.240252\n",
            " Loss = 0.902223549300803\n",
            " Train acc_qm: 0.615579806583\n",
            "   breakdown result: [0.94256055 0.96671103 0.67143998]\n",
            " Dev acc_qm: 0.472509203183\n",
            "   breakdown result: [0.88196176 0.90594941 0.57190357]\n",
            "('\\nTime\\n', 1123.353040933609, 18.722550682226817)\n",
            " Best val acc = (0.8985868661679135, 0.9059494121838262, 0.57190357439734), on epoch (0, 2, 2) individually\n",
            "Epoch 3 @ 2020-09-09 07:44:05.955747\n",
            " Loss = 0.7593600848935086\n",
            " Train acc_qm: 0.670943128383\n",
            "   breakdown result: [0.95682726 0.97366693 0.71784225]\n",
            " Dev acc_qm: 0.498871867949\n",
            "   breakdown result: [0.88124926 0.90974944 0.60040375]\n",
            "('\\nTime\\n', 1108.5977909564972, 18.476629849274953)\n",
            " Best val acc = (0.8985868661679135, 0.9097494359339746, 0.6004037525234532), on epoch (0, 3, 3) individually\n",
            "Epoch 4 @ 2020-09-09 08:02:38.601995\n",
            " Loss = 0.6465269408286511\n",
            " Train acc_qm: 0.697861769142\n",
            "   breakdown result: [0.97288617 0.97865318 0.73100878]\n",
            " Dev acc_qm: 0.494003087519\n",
            "   breakdown result: [0.87388671 0.9112932  0.6000475 ]\n",
            "('\\nTime\\n', 1103.43985080719, 18.39066418011983)\n",
            " Best val acc = (0.8985868661679135, 0.9112931955824723, 0.6004037525234532), on epoch (0, 4, 3) individually\n",
            "Epoch 5 @ 2020-09-09 08:21:03.801972\n",
            " Loss = 0.5560067914608112\n",
            " Train acc_qm: 0.740892556117\n",
            "   breakdown result: [0.97994854 0.98225535 0.76869843]\n",
            " Dev acc_qm: 0.507778173614\n",
            "   breakdown result: [0.86925543 0.90986819 0.62189764]\n",
            "('\\nTime\\n', 1122.855190038681, 18.71425316731135)\n",
            " Best val acc = (0.8985868661679135, 0.9112931955824723, 0.6218976368602304), on epoch (0, 4, 5) individually\n",
            "Epoch 6 @ 2020-09-09 08:39:48.546500\n",
            " Loss = 0.4946541025490296\n",
            " Train acc_qm: 0.767775707568\n",
            "   breakdown result: [0.98372815 0.98541389 0.79123414]\n",
            " Dev acc_qm: 0.515615722598\n",
            "   breakdown result: [0.86913668 0.91295571 0.62557891]\n",
            "('\\nTime\\n', 1120.0052478313446, 18.66675413052241)\n",
            " Best val acc = (0.8985868661679135, 0.9129557059731623, 0.6255789098681867), on epoch (0, 6, 6) individually\n",
            "Epoch 7 @ 2020-09-09 08:58:32.041516\n",
            " Loss = 0.4430416675180226\n",
            " Train acc_qm: 0.786017212315\n",
            "   breakdown result: [0.98635436 0.98626564 0.80684944]\n",
            " Dev acc_qm: 0.516921980762\n",
            "   breakdown result: [0.87008669 0.90951193 0.62997269]\n",
            "('\\nTime\\n', 1128.025199174881, 18.800419986248016)\n",
            " Best val acc = (0.8985868661679135, 0.9129557059731623, 0.6299726873292958), on epoch (0, 6, 7) individually\n",
            "('\\nTime', [1115.5887458324432, 1123.353040933609, 1108.5977909564972, 1103.43985080719, 1122.855190038681, 1120.0052478313446, 1128.025199174881])\n",
            "('Total Time', 7821.865065574646)\n",
            "('AVG', 1117.4092950820923)\n"
          ],
          "name": "stdout"
        }
      ]
    },
    {
      "cell_type": "code",
      "metadata": {
        "id": "NzH5TupBSJ1g",
        "colab_type": "code",
        "colab": {
          "base_uri": "https://localhost:8080/",
          "height": 727
        },
        "outputId": "05a45d99-1598-42d7-9955-a0425183fdfe"
      },
      "source": [
        "!python test.py --ca --train_emb"
      ],
      "execution_count": null,
      "outputs": [
        {
          "output_type": "stream",
          "text": [
            "Loading from original dataset\n",
            "Loading data from data/train_tok.jsonl\n",
            "Loading data from data/train_tok.tables.jsonl\n",
            "Loading data from data/dev_tok.jsonl\n",
            "Loading data from data/dev_tok.tables.jsonl\n",
            "Loading data from data/test_tok.jsonl\n",
            "Loading data from data/test_tok.tables.jsonl\n",
            "Load used word embedding\n",
            "Using trainable embedding\n",
            "Using trainable embedding\n",
            "Using trainable embedding\n",
            "Using column attention on aggregator predicting\n",
            "Using column attention on selection predicting\n",
            "Using column attention on where predicting\n",
            "Loading from saved_model/old_sqlnet_train_emb_ca.agg_model\n",
            "Loading from saved_model/old_sqlnet_train_emb_ca.sel_model\n",
            "Loading from saved_model/old_sqlnet_train_emb_ca.cond_model\n",
            "Loading from saved_model/old_sqlnet_train_emb_ca.agg_embed\n",
            "Loading from saved_model/old_sqlnet_train_emb_ca.sel_embed\n",
            "Loading from saved_model/old_sqlnet_train_emb_ca.cond_embed\n",
            "/content/drive/My Drive/Database Systems/SQLNet-master/sqlnet/model/modules/aggregator_predict.py:55: UserWarning: Implicit dimension choice for softmax has been deprecated. Change the call to include dim=X as an argument.\n",
            "  att = self.softmax(att_val)\n",
            "/content/drive/My Drive/Database Systems/SQLNet-master/sqlnet/model/modules/selection_predict.py:46: UserWarning: Implicit dimension choice for softmax has been deprecated. Change the call to include dim=X as an argument.\n",
            "  att = self.softmax(att_val.view((-1, max_x_len))).view(\n",
            "/content/drive/My Drive/Database Systems/SQLNet-master/sqlnet/model/modules/sqlnet_condition_predict.py:123: UserWarning: Implicit dimension choice for softmax has been deprecated. Change the call to include dim=X as an argument.\n",
            "  num_col_att = self.softmax(num_col_att_val)\n",
            "/content/drive/My Drive/Database Systems/SQLNet-master/sqlnet/model/modules/sqlnet_condition_predict.py:138: UserWarning: Implicit dimension choice for softmax has been deprecated. Change the call to include dim=X as an argument.\n",
            "  num_att = self.softmax(num_att_val)\n",
            "/content/drive/My Drive/Database Systems/SQLNet-master/sqlnet/model/modules/sqlnet_condition_predict.py:156: UserWarning: Implicit dimension choice for softmax has been deprecated. Change the call to include dim=X as an argument.\n",
            "  (-1, max_x_len))).view(B, -1, max_x_len)\n",
            "/content/drive/My Drive/Database Systems/SQLNet-master/sqlnet/model/modules/sqlnet_condition_predict.py:202: UserWarning: Implicit dimension choice for softmax has been deprecated. Change the call to include dim=X as an argument.\n",
            "  op_att = self.softmax(op_att_val.view(B*4, -1)).view(B, 4, -1)\n",
            "Dev acc_qm: 0.533903336896;\n",
            "  breakdown on (agg, sel, where): [0.89858687 0.91295571 0.62997269]\n",
            "Dev execution acc: 0.608716304477\n",
            "Test acc_qm: 0.525381030356;\n",
            "  breakdown on (agg, sel, where): [0.90049125 0.90068019 0.62407104]\n",
            "Test execution acc: 0.600264516942\n"
          ],
          "name": "stdout"
        }
      ]
    },
    {
      "cell_type": "markdown",
      "metadata": {
        "id": "BhsJPnxy2p2a",
        "colab_type": "text"
      },
      "source": [
        ""
      ]
    },
    {
      "cell_type": "code",
      "metadata": {
        "id": "3MiEBUOCdsKG",
        "colab_type": "code",
        "colab": {
          "base_uri": "https://localhost:8080/",
          "height": 1000
        },
        "outputId": "3f0b6082-fb36-4ebc-d42d-832c6b4860e0"
      },
      "source": [
        "!python train.py --baseline --dataset 1"
      ],
      "execution_count": null,
      "outputs": [
        {
          "output_type": "stream",
          "text": [
            "Loading from re-split dataset\n",
            "Loading data from data_resplit/train.jsonl\n",
            "Loading data from data_resplit/tables.jsonl\n",
            "Loading data from data_resplit/dev.jsonl\n",
            "Loading data from data_resplit/tables.jsonl\n",
            "Loading data from data_resplit/test.jsonl\n",
            "Loading data from data_resplit/tables.jsonl\n",
            "Loading word embedding from /content/drive/My Drive/Database Systems/TypeSQL-python3-master/glove/glove.6B.300d.txt\n",
            "Using fixed embedding\n",
            "Not using column attention on aggregator predicting\n",
            "Not using column attention on selection predicting\n",
            "Seq2SQL where prediction\n",
            "/content/drive/My Drive/Database Systems/SQLNet-master/sqlnet/model/modules/aggregator_predict.py:55: UserWarning: Implicit dimension choice for softmax has been deprecated. Change the call to include dim=X as an argument.\n",
            "  att = self.softmax(att_val)\n",
            "/content/drive/My Drive/Database Systems/SQLNet-master/sqlnet/model/modules/selection_predict.py:55: UserWarning: Implicit dimension choice for softmax has been deprecated. Change the call to include dim=X as an argument.\n",
            "  att = self.softmax(att_val)\n",
            "Init dev acc_qm: 0.0\n",
            "  breakdown on (agg, sel, where): [0.02612671 0.15806662 0.        ]\n",
            "Epoch 1 @ 2020-09-08 13:21:21.614875\n",
            " Loss = 3.5413189304192314\n",
            " Train acc_qm: 0.0654603256157\n",
            "   breakdown result: [0.89292251 0.40368004 0.16518416]\n",
            " Dev acc_qm: 0.0587851077727\n",
            "   breakdown result: [0.9145983  0.3801437  0.15496408]\n",
            "('\\nTime\\n', 552.8655798435211, 9.214426330725352)\n",
            " Best val acc = (0.9145983017635533, 0.380143696930111, 0.15496407576747223), on epoch (1, 1, 1) individually\n",
            "Epoch 2 @ 2020-09-08 13:30:34.556447\n",
            " Loss = 2.3057492839926788\n",
            " Train acc_qm: 0.199062329405\n",
            "   breakdown result: [0.90027616 0.70665682 0.28767541]\n",
            " Dev acc_qm: 0.161495754409\n",
            "   breakdown result: [0.91737427 0.65169824 0.24755062]\n",
            "('\\nTime\\n', 575.5474779605865, 9.592457966009777)\n",
            " Best val acc = (0.9173742651861528, 0.6516982364467668, 0.24755062050947094), on epoch (2, 2, 2) individually\n",
            "Epoch 3 @ 2020-09-08 13:40:10.181861\n",
            " Loss = 1.7850032443543329\n",
            " Train acc_qm: 0.281461738544\n",
            "   breakdown result: [0.90416172 0.8043576  0.35939758]\n",
            " Dev acc_qm: 0.22942521228\n",
            "   breakdown result: [0.91998694 0.74983671 0.3048661 ]\n",
            "('\\nTime\\n', 608.6429121494293, 10.144048535823822)\n",
            " Best val acc = (0.9199869366427171, 0.7498367080339647, 0.3048661005878511), on epoch (3, 3, 3) individually\n",
            "Epoch 4 @ 2020-09-08 13:50:18.899380\n",
            " Loss = 1.5223773211658982\n",
            " Train acc_qm: 0.342586943258\n",
            "   breakdown result: [0.90962076 0.84029093 0.42172698]\n",
            " Dev acc_qm: 0.284617896799\n",
            "   breakdown result: [0.92308948 0.7844546  0.35711953]\n",
            "('\\nTime\\n', 579.0034830570221, 9.650058050950369)\n",
            " Best val acc = (0.9230894839973873, 0.7844546048334422, 0.3571195297191378), on epoch (4, 4, 4) individually\n",
            "Epoch 5 @ 2020-09-08 13:59:57.981716\n",
            " Loss = 1.3530579775285676\n",
            " Train acc_qm: 0.381956263447\n",
            "   breakdown result: [0.91257506 0.86745769 0.45873607]\n",
            " Dev acc_qm: 0.314990202482\n",
            "   breakdown result: [0.92178315 0.80715219 0.38749184]\n",
            "('\\nTime\\n', 569.5035629272461, 9.491726048787434)\n",
            " Best val acc = (0.9230894839973873, 0.8071521881123449, 0.38749183540169824), on epoch (4, 5, 5) individually\n",
            "Epoch 6 @ 2020-09-08 14:09:27.538921\n",
            " Loss = 1.2358313039227995\n",
            " Train acc_qm: 0.419447031245\n",
            "   breakdown result: [0.91662117 0.88203654 0.49763977]\n",
            " Dev acc_qm: 0.346178967995\n",
            "   breakdown result: [0.92145656 0.82838014 0.41574135]\n",
            "('\\nTime\\n', 592.0554840564728, 9.867591400941214)\n",
            " Best val acc = (0.9230894839973873, 0.8283801436969301, 0.4157413455258001), on epoch (4, 6, 6) individually\n",
            "Epoch 7 @ 2020-09-08 14:19:19.647662\n",
            " Loss = 1.1429708163359504\n",
            " Train acc_qm: 0.453421534312\n",
            "   breakdown result: [0.92167882 0.89799621 0.52766449]\n",
            " Dev acc_qm: 0.376061397779\n",
            "   breakdown result: [0.9227629  0.84503592 0.44480732]\n",
            "('\\nTime\\n', 573.8863999843597, 9.564773333072662)\n",
            " Best val acc = (0.9230894839973873, 0.8450359242325277, 0.4448073154800784), on epoch (4, 7, 7) individually\n",
            "('\\nTime', [552.8655798435211, 575.5474779605865, 608.6429121494293, 579.0034830570221, 569.5035629272461, 592.0554840564728, 573.8863999843597])\n",
            "('Total Time', 4051.5048999786377)\n",
            "('AVG', 578.7864142826626)\n"
          ],
          "name": "stdout"
        }
      ]
    },
    {
      "cell_type": "code",
      "metadata": {
        "id": "ihBZcYUhdsIF",
        "colab_type": "code",
        "colab": {
          "base_uri": "https://localhost:8080/",
          "height": 528
        },
        "outputId": "7a17f440-7cf7-4c21-e219-1310adb3dfd4"
      },
      "source": [
        "!python test.py --baseline --dataset 1"
      ],
      "execution_count": null,
      "outputs": [
        {
          "output_type": "stream",
          "text": [
            "Loading from re-split dataset\n",
            "Loading data from data_resplit/train.jsonl\n",
            "Loading data from data_resplit/tables.jsonl\n",
            "Loading data from data_resplit/dev.jsonl\n",
            "Loading data from data_resplit/tables.jsonl\n",
            "Loading data from data_resplit/test.jsonl\n",
            "Loading data from data_resplit/tables.jsonl\n",
            "Load used word embedding\n",
            "Using trainable embedding\n",
            "Using trainable embedding\n",
            "Using trainable embedding\n",
            "Not using column attention on aggregator predicting\n",
            "Not using column attention on selection predicting\n",
            "Seq2SQL where prediction\n",
            "Loading from saved_model/new_seq2sql.agg_model\n",
            "Loading from saved_model/new_seq2sql.sel_model\n",
            "Loading from saved_model/new_seq2sql.cond_model\n",
            "/content/drive/My Drive/Database Systems/SQLNet-master/sqlnet/model/modules/aggregator_predict.py:55: UserWarning: Implicit dimension choice for softmax has been deprecated. Change the call to include dim=X as an argument.\n",
            "  att = self.softmax(att_val)\n",
            "/content/drive/My Drive/Database Systems/SQLNet-master/sqlnet/model/modules/selection_predict.py:55: UserWarning: Implicit dimension choice for softmax has been deprecated. Change the call to include dim=X as an argument.\n",
            "  att = self.softmax(att_val)\n",
            "Dev acc_qm: 0.373938602221;\n",
            "  breakdown on (agg, sel, where): [0.92308948 0.84503592 0.44480732]\n",
            "Dev execution acc: 0.463422599608\n",
            "Test acc_qm: 0.377122795558;\n",
            "  breakdown on (agg, sel, where): [0.92341607 0.84364794 0.4502776 ]\n",
            "Test execution acc: 0.468729588504\n"
          ],
          "name": "stdout"
        }
      ]
    },
    {
      "cell_type": "markdown",
      "metadata": {
        "id": "pJJTxbdR2w8n",
        "colab_type": "text"
      },
      "source": [
        ""
      ]
    },
    {
      "cell_type": "code",
      "metadata": {
        "id": "lbs1T2eHc89m",
        "colab_type": "code",
        "colab": {
          "base_uri": "https://localhost:8080/",
          "height": 709
        },
        "outputId": "8a8d9370-bc22-4ed7-bdb2-66970e673d62"
      },
      "source": [
        "!python train.py --baseline --dataset 1 --rl"
      ],
      "execution_count": null,
      "outputs": [
        {
          "output_type": "stream",
          "text": [
            "Loading from re-split dataset\n",
            "Loading data from data_resplit/train.jsonl\n",
            "Loading data from data_resplit/tables.jsonl\n",
            "Loading data from data_resplit/dev.jsonl\n",
            "Loading data from data_resplit/tables.jsonl\n",
            "Loading data from data_resplit/test.jsonl\n",
            "Loading data from data_resplit/tables.jsonl\n",
            "Loading word embedding from /content/drive/My Drive/Database Systems/TypeSQL-python3-master/glove/glove.6B.300d.txt\n",
            "Using fixed embedding\n",
            "Not using column attention on aggregator predicting\n",
            "Not using column attention on selection predicting\n",
            "Seq2SQL where prediction\n",
            "Loading from saved_model/new_seq2sql.agg_model\n",
            "Loading from saved_model/new_seq2sql.sel_model\n",
            "Loading from saved_model/new_seq2sql.cond_model\n",
            "/content/drive/My Drive/Database Systems/SQLNet-master/sqlnet/model/modules/aggregator_predict.py:55: UserWarning: Implicit dimension choice for softmax has been deprecated. Change the call to include dim=X as an argument.\n",
            "  att = self.softmax(att_val)\n",
            "/content/drive/My Drive/Database Systems/SQLNet-master/sqlnet/model/modules/selection_predict.py:55: UserWarning: Implicit dimension choice for softmax has been deprecated. Change the call to include dim=X as an argument.\n",
            "  att = self.softmax(att_val)\n",
            "Init dev acc_qm: 0.373938602221\n",
            "  breakdown on (agg, sel, where): [0.92308948 0.84503592 0.44480732]\n",
            "Init dev acc_ex: 0.463422599608\n",
            "Epoch 1 @ 2020-09-08 14:54:34.244792\n",
            "/content/drive/My Drive/Database Systems/SQLNet-master/sqlnet/model/modules/seq2sql_condition_predict.py:101: UserWarning: Implicit dimension choice for softmax has been deprecated. Change the call to include dim=X as an argument.\n",
            "  ans_tok_var = self.softmax(cur_cond_score).multinomial()\n",
            "Traceback (most recent call last):\n",
            "  File \"train.py\", line 94, in <module>\n",
            "    model, optimizer, BATCH_SIZE, sql_data, table_data, TRAIN_DB)\n",
            "  File \"/content/drive/My Drive/Database Systems/SQLNet-master/sqlnet/utils.py\", line 237, in epoch_reinforce_train\n",
            "    reinforce=True, gt_sel=gt_sel_seq)\n",
            "  File \"/content/drive/My Drive/Database Systems/SQLNet-master/sqlnet/model/seq2sql.py\", line 140, in forward\n",
            "    reinforce=reinforce)\n",
            "  File \"/usr/local/lib/python2.7/dist-packages/torch/nn/modules/module.py\", line 532, in __call__\n",
            "    result = self.forward(*input, **kwargs)\n",
            "  File \"/content/drive/My Drive/Database Systems/SQLNet-master/sqlnet/model/modules/seq2sql_condition_predict.py\", line 101, in forward\n",
            "    ans_tok_var = self.softmax(cur_cond_score).multinomial()\n",
            "TypeError: multinomial() missing 1 required positional arguments: \"num_samples\"\n"
          ],
          "name": "stdout"
        }
      ]
    },
    {
      "cell_type": "code",
      "metadata": {
        "id": "XLtZH9X52z0T",
        "colab_type": "code",
        "colab": {}
      },
      "source": [
        "!python test.py --baseline --dataset 1 --rl"
      ],
      "execution_count": null,
      "outputs": []
    }
  ]
}